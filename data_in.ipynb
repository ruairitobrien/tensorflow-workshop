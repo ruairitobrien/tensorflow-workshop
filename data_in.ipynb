{
 "cells": [
  {
   "cell_type": "markdown",
   "metadata": {},
   "source": [
    "# getting data in... to the graph"
   ]
  },
  {
   "cell_type": "code",
   "execution_count": null,
   "metadata": {
    "collapsed": true
   },
   "outputs": [],
   "source": [
    "import tensorflow as tf\n",
    "\n",
    "graph = tf.get_default_graph()\n",
    "session = tf.Session()"
   ]
  },
  {
   "cell_type": "code",
   "execution_count": null,
   "metadata": {},
   "outputs": [],
   "source": [
    "graph.get_operations()"
   ]
  },
  {
   "cell_type": "code",
   "execution_count": null,
   "metadata": {
    "collapsed": true
   },
   "outputs": [],
   "source": [
    "zero_d = tf.constant(4)"
   ]
  },
  {
   "cell_type": "code",
   "execution_count": null,
   "metadata": {},
   "outputs": [],
   "source": [
    "graph.get_operations()"
   ]
  },
  {
   "cell_type": "code",
   "execution_count": null,
   "metadata": {},
   "outputs": [],
   "source": [
    "session.run(zero_d - 1)"
   ]
  },
  {
   "cell_type": "code",
   "execution_count": null,
   "metadata": {},
   "outputs": [],
   "source": [
    "graph.get_operations()"
   ]
  },
  {
   "cell_type": "code",
   "execution_count": null,
   "metadata": {},
   "outputs": [],
   "source": [
    "session.run(zero_d, feed_dict={zero_d: 9})"
   ]
  },
  {
   "cell_type": "code",
   "execution_count": null,
   "metadata": {},
   "outputs": [],
   "source": [
    "graph.get_operations()"
   ]
  },
  {
   "cell_type": "markdown",
   "metadata": {},
   "source": [
    "Disclaimer: This example gleefully uses `tf.constant()` and not `tf.placeholder()`. Really if you plan to feed data in, you should use `tf.placeholder()`. Also you likely want to provide more useful `name` values for things, etc."
   ]
  },
  {
   "cell_type": "code",
   "execution_count": null,
   "metadata": {
    "collapsed": true
   },
   "outputs": [],
   "source": [
    "one_d = tf.constant([1, 1])"
   ]
  },
  {
   "cell_type": "code",
   "execution_count": null,
   "metadata": {},
   "outputs": [],
   "source": [
    "session.run(one_d + [2, 2])"
   ]
  },
  {
   "cell_type": "code",
   "execution_count": null,
   "metadata": {
    "collapsed": true
   },
   "outputs": [],
   "source": [
    "import numpy as np\n",
    "\n",
    "two_d = tf.constant(np.array([[2, 2], [2, 2]]))"
   ]
  },
  {
   "cell_type": "code",
   "execution_count": null,
   "metadata": {},
   "outputs": [],
   "source": [
    "session.run(two_d + [[1, 1], [1, 1]])"
   ]
  },
  {
   "cell_type": "code",
   "execution_count": null,
   "metadata": {},
   "outputs": [],
   "source": [
    "session.run(two_d, feed_dict={two_d: [[9, 9], [9, 9]]})"
   ]
  },
  {
   "cell_type": "markdown",
   "metadata": {},
   "source": [
    "---\n",
    "\n",
    "# getting data in... TFRecords"
   ]
  },
  {
   "cell_type": "code",
   "execution_count": null,
   "metadata": {
    "collapsed": true
   },
   "outputs": [],
   "source": [
    "# Python dict:\n",
    "my_dict = {'features' : {\n",
    "    'my_ints': [5, 6],\n",
    "    'my_float': [2.7],\n",
    "    'my_bytes': [b'data']\n",
    "}}"
   ]
  },
  {
   "cell_type": "code",
   "execution_count": null,
   "metadata": {},
   "outputs": [],
   "source": [
    "# TFRecords `Example`:\n",
    "my_example = tf.train.Example(features=tf.train.Features(feature={\n",
    "    'my_ints': tf.train.Feature(int64_list=tf.train.Int64List(value=[5, 6])),\n",
    "    'my_float': tf.train.Feature(float_list=tf.train.FloatList(value=[2.7])),\n",
    "    'my_bytes': tf.train.Feature(bytes_list=tf.train.BytesList(value=[b'data']))\n",
    "}))"
   ]
  },
  {
   "cell_type": "code",
   "execution_count": null,
   "metadata": {
    "collapsed": true
   },
   "outputs": [],
   "source": [
    "image = np.ones((1, 28, 28), dtype=np.uint8)  # not a meaningful image\n",
    "label = 9  # for a classification problem\n",
    "\n",
    "image_bytes = image.tostring()\n",
    "image_shape = image.shape\n",
    "\n",
    "my_example = tf.train.Example(features=tf.train.Features(feature={\n",
    "    'image_bytes': tf.train.Feature(bytes_list=tf.train.BytesList(value=[image_bytes])),\n",
    "    'image_shape': tf.train.Feature(int64_list=tf.train.Int64List(value=image_shape)),\n",
    "    'label': tf.train.Feature(int64_list=tf.train.Int64List(value=[label]))\n",
    "}))"
   ]
  },
  {
   "cell_type": "code",
   "execution_count": null,
   "metadata": {},
   "outputs": [],
   "source": [
    "my_example_str = my_example.SerializeToString()\n",
    "with tf.python_io.TFRecordWriter('an_example.tfrecords') as writer:\n",
    "    writer.write(my_example_str)\n",
    "\n",
    "reader = tf.python_io.tf_record_iterator('an_example.tfrecords')\n",
    "those_examples = [tf.train.Example().FromString(example_str)\n",
    "                  for example_str in reader]"
   ]
  },
  {
   "cell_type": "code",
   "execution_count": null,
   "metadata": {},
   "outputs": [],
   "source": [
    "same_example = those_examples[0]\n",
    "same_image_bytes = same_example.features.feature['image_bytes'].bytes_list.value[0]\n",
    "same_image_shape = list(same_example.features.feature['image_shape'].int64_list.value)\n",
    "same_label = same_example.features.feature['label'].int64_list.value[0]\n",
    "same_image = np.fromstring(same_image_bytes, dtype=np.uint8)\n",
    "same_image.shape = same_image_shape"
   ]
  },
  {
   "cell_type": "code",
   "execution_count": null,
   "metadata": {},
   "outputs": [],
   "source": [
    "same_label"
   ]
  },
  {
   "cell_type": "markdown",
   "metadata": {},
   "source": [
    "---\n",
    "\n",
    "# Exploring\n",
    "\n",
    " * [Python quick reference](http://www.dataschool.io/python-quick-reference/)\n",
    " * `dir()` and `help()`\n",
    " * Using TensorFlow documentation"
   ]
  },
  {
   "cell_type": "code",
   "execution_count": null,
   "metadata": {},
   "outputs": [],
   "source": [
    "dir(tf)"
   ]
  },
  {
   "cell_type": "code",
   "execution_count": null,
   "metadata": {},
   "outputs": [],
   "source": [
    "help(tf.TFRecordReader)"
   ]
  },
  {
   "cell_type": "markdown",
   "metadata": {},
   "source": [
    " * Search: https://www.tensorflow.org/s/results/?q=TFRecordReader\n",
    " * Docs: https://www.tensorflow.org/api_docs/python/tf/TFRecordReader\n",
    " * Source: https://github.com/tensorflow/tensorflow/blob/r1.1/tensorflow/python/ops/io_ops.py#L413"
   ]
  },
  {
   "cell_type": "code",
   "execution_count": null,
   "metadata": {
    "collapsed": true
   },
   "outputs": [],
   "source": []
  }
 ],
 "metadata": {
  "kernelspec": {
   "display_name": "Python 3",
   "language": "python",
   "name": "python3"
  },
  "language_info": {
   "codemirror_mode": {
    "name": "ipython",
    "version": 3
   },
   "file_extension": ".py",
   "mimetype": "text/x-python",
   "name": "python",
   "nbconvert_exporter": "python",
   "pygments_lexer": "ipython3",
   "version": "3.6.0"
  }
 },
 "nbformat": 4,
 "nbformat_minor": 1
}
